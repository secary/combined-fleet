{
 "cells": [
  {
   "cell_type": "code",
   "execution_count": 16,
   "metadata": {},
   "outputs": [],
   "source": [
    "import bs4                              \n",
    "import re                               \n",
    "import urllib.request,urllib.error,urllib.parse                            #\n",
    "from bs4 import BeautifulSoup\n",
    "import datetime\n",
    "import time\n",
    "from datetime import datetime,date,timedelta\n",
    "\n",
    "website = \"https://www.boc.cn/sourcedb/whpj/\"\n",
    "\n",
    "def askurl(url):\n",
    "    url = website\n",
    "    head = {\n",
    "        'User-Agent':'Mozilla/5.0 (Windows NT 10.0; Win64; x64) AppleWebKit/537.36 (KHTML, like Gecko) Chrome/87.0.4280.66 Safari/537.36'\n",
    "    }\n",
    "    request = urllib.request.Request(url,headers=head)\n",
    "    html = \"\"\n",
    "    try:\n",
    "        # time.sleep(5)\n",
    "        response = urllib.request.urlopen(request)\n",
    "        html = response.read().decode('utf-8')\n",
    "    except urllib.error.HTTPError as e:\n",
    "        if hasattr(e,\"code\"):\n",
    "            print(e.code)\n",
    "        if hasattr(e,\"reson\"):\n",
    "            print(e.reason)\n",
    "    return html\n",
    "\n",
    "\n"
   ]
  },
  {
   "cell_type": "code",
   "execution_count": 23,
   "metadata": {},
   "outputs": [
    {
     "name": "stderr",
     "output_type": "stream",
     "text": [
      "C:\\Users\\secar\\AppData\\Local\\Temp\\ipykernel_33980\\1940447959.py:23: DeprecationWarning: The 'text' argument to find()-type methods is deprecated. Use 'string' instead.\n",
      "  target_td = soup.find('td', text='澳大利亚元')\n"
     ]
    },
    {
     "data": {
      "text/plain": [
       "float"
      ]
     },
     "execution_count": 23,
     "metadata": {},
     "output_type": "execute_result"
    }
   ],
   "source": [
    "\n",
    "website = \"https://www.boc.cn/sourcedb/whpj/\"\n",
    "def askurl(url):\n",
    "    url = website\n",
    "    head = {\n",
    "        'User-Agent':'Mozilla/5.0 (Windows NT 10.0; Win64; x64) AppleWebKit/537.36 (KHTML, like Gecko) Chrome/87.0.4280.66 Safari/537.36'\n",
    "    }\n",
    "    request = urllib.request.Request(url,headers=head)\n",
    "    html = \"\"\n",
    "    try:\n",
    "        # time.sleep(5)\n",
    "        response = urllib.request.urlopen(request)\n",
    "        html = response.read().decode('utf-8')\n",
    "    except urllib.error.HTTPError as e:\n",
    "        if hasattr(e,\"code\"):\n",
    "            print(e.code)\n",
    "        if hasattr(e,\"reson\"):\n",
    "            print(e.reason)\n",
    "    return html\n",
    "\n",
    "def getexchange_rate(url):\n",
    "    html = askurl(url)\n",
    "    soup = BeautifulSoup(html,\"html.parser\")\n",
    "    target_td = soup.find('td', text='澳大利亚元')\n",
    "    if target_td:\n",
    "        next_td = target_td.find_next_sibling('td')\n",
    "        if next_td:\n",
    "            result = float(next_td.text.strip())\n",
    "        else:\n",
    "            result = \"未找到相邻的<td>标签\"\n",
    "    else:\n",
    "        result = \"未找到包含'澳大利亚元'的<td>标签\"\n",
    "        \n",
    "    return result\n"
   ]
  },
  {
   "cell_type": "code",
   "execution_count": 28,
   "metadata": {},
   "outputs": [],
   "source": [
    "import bs4                              \n",
    "import re                               \n",
    "import urllib.request,urllib.error,urllib.parse                            #\n",
    "from bs4 import BeautifulSoup\n",
    "import datetime\n",
    "import time\n",
    "from datetime import datetime,date,timedelta\n",
    "\n",
    "website = \"https://www.boc.cn/sourcedb/whpj/\"\n",
    "\n",
    "def askurl(url):\n",
    "    head = {\n",
    "        'User-Agent':'Mozilla/5.0 (Windows NT 10.0; Win64; x64) AppleWebKit/537.36 (KHTML, like Gecko) Chrome/87.0.4280.66 Safari/537.36'\n",
    "    }\n",
    "    request = urllib.request.Request(url,headers=head)\n",
    "    html = \"\"\n",
    "    try:\n",
    "        # time.sleep(5)\n",
    "        response = urllib.request.urlopen(request)\n",
    "        html = response.read().decode('utf-8')\n",
    "    except urllib.error.HTTPError as e:\n",
    "        if hasattr(e,\"code\"):\n",
    "            print(e.code)\n",
    "        if hasattr(e,\"reson\"):\n",
    "            print(e.reason)\n",
    "    return html\n",
    "\n",
    "def askurl(url):\n",
    "    head = {\n",
    "        'User-Agent':'Mozilla/5.0 (Windows NT 10.0; Win64; x64) AppleWebKit/537.36 (KHTML, like Gecko) Chrome/87.0.4280.66 Safari/537.36'\n",
    "    }\n",
    "    request = urllib.request.Request(url,headers=head)\n",
    "    html = \"\"\n",
    "    try:\n",
    "        # time.sleep(5)\n",
    "        response = urllib.request.urlopen(request)\n",
    "        html = response.read().decode('utf-8')\n",
    "    except urllib.error.HTTPError as e:\n",
    "        if hasattr(e,\"code\"):\n",
    "            print(e.code)\n",
    "        if hasattr(e,\"reson\"):\n",
    "            print(e.reason)\n",
    "    return html\n",
    "\n",
    "def getexchange_rate(url):\n",
    "    html = askurl(url)\n",
    "    soup = BeautifulSoup(html,\"html.parser\")\n",
    "    target_td = soup.find('td', text='美元')\n",
    "    if target_td:\n",
    "        next_td = target_td.find_next_sibling('td')\n",
    "        if next_td:\n",
    "            result = float(next_td.text.strip())\n",
    "        else:\n",
    "            result = \"未找到相邻的<td>标签\"\n",
    "    else:\n",
    "        result = \"未找到包含'美元'的<td>标签\"\n",
    "        \n",
    "    return result"
   ]
  },
  {
   "cell_type": "code",
   "execution_count": 36,
   "metadata": {},
   "outputs": [
    {
     "name": "stderr",
     "output_type": "stream",
     "text": [
      "C:\\Users\\secar\\AppData\\Local\\Temp\\ipykernel_33980\\798871916.py:48: DeprecationWarning: The 'text' argument to find()-type methods is deprecated. Use 'string' instead.\n",
      "  target_td = soup.find('td', text='美元')\n"
     ]
    },
    {
     "name": "stdout",
     "output_type": "stream",
     "text": [
      "2024-06-13 19:06:43\n",
      "Today's Exchange Rate of CNY to USD is 724.16 \n",
      "usd:12\n",
      "cny:1.657092355280601\n",
      "============================================================\n",
      "usd:22\n",
      "cny:3.0380026513477687\n",
      "============================================================\n",
      "usd:33\n",
      "cny:4.557003977021653\n",
      "============================================================\n",
      "usd:35\n",
      "cny:4.8331860362350865\n",
      "============================================================\n"
     ]
    }
   ],
   "source": [
    "def main(url):\n",
    "    cny_usd = getexchange_rate(url)\n",
    "    if type(cny_usd) == float:\n",
    "        CurrentTime = time.strftime('%Y-%m-%d %H:%m:%S', time.localtime(time.time()))\n",
    "        print(\"%s\\nToday's Exchange Rate of CNY to USD is %s \"%(CurrentTime,cny_usd))\n",
    "        Exchange_rate = float(cny_usd)\n",
    "        while 1:\n",
    "            currency = input(\"enter your currency(press Q to esc):\")\n",
    "            \n",
    "            if currency == \"usd\" or currency == \"cny\":\n",
    "               \n",
    "                while 1:\n",
    "                    amount = input(f\"{currency} amount:\") \n",
    "                    if amount.isnumeric() == False:\n",
    "                        break\n",
    "                    else:\n",
    "                        if currency == \"usd\":\n",
    "                            cny = float(amount) * 100 / Exchange_rate \n",
    "                            print(f\"usd:{amount}\\ncny:{cny}\\n\" + \"=\" * 60)\n",
    "                        if currency == \"cny\":\n",
    "                            usd = float(amount) * 100 / Exchange_rate \n",
    "                            print(f\"cny:{amount}\\nusd:{usd}\\n\" + \"=\" * 60)   \n",
    "                    \n",
    "            \n",
    "    else:\n",
    "       print(\"抓取汇率失败，原因：\" +  cny_usd)\n",
    "\n",
    "\n",
    "if __name__ == \"__main__\":\n",
    "    main(website)"
   ]
  }
 ],
 "metadata": {
  "kernelspec": {
   "display_name": "Python 3",
   "language": "python",
   "name": "python3"
  },
  "language_info": {
   "codemirror_mode": {
    "name": "ipython",
    "version": 3
   },
   "file_extension": ".py",
   "mimetype": "text/x-python",
   "name": "python",
   "nbconvert_exporter": "python",
   "pygments_lexer": "ipython3",
   "version": "3.10.11"
  }
 },
 "nbformat": 4,
 "nbformat_minor": 2
}
