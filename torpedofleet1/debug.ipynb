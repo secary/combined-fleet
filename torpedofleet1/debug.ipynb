{
 "cells": [
  {
   "cell_type": "code",
   "execution_count": 16,
   "metadata": {},
   "outputs": [],
   "source": [
    "import bs4                              \n",
    "import re                               \n",
    "import urllib.request,urllib.error,urllib.parse                            #\n",
    "from bs4 import BeautifulSoup\n",
    "import datetime\n",
    "import time\n",
    "from datetime import datetime,date,timedelta\n",
    "\n",
    "website = \"https://www.boc.cn/sourcedb/whpj/\"\n",
    "\n",
    "def askurl(url):\n",
    "    url = website\n",
    "    head = {\n",
    "        'User-Agent':'Mozilla/5.0 (Windows NT 10.0; Win64; x64) AppleWebKit/537.36 (KHTML, like Gecko) Chrome/87.0.4280.66 Safari/537.36'\n",
    "    }\n",
    "    request = urllib.request.Request(url,headers=head)\n",
    "    html = \"\"\n",
    "    try:\n",
    "        # time.sleep(5)\n",
    "        response = urllib.request.urlopen(request)\n",
    "        html = response.read().decode('utf-8')\n",
    "    except urllib.error.HTTPError as e:\n",
    "        if hasattr(e,\"code\"):\n",
    "            print(e.code)\n",
    "        if hasattr(e,\"reson\"):\n",
    "            print(e.reason)\n",
    "    return html\n",
    "\n",
    "\n"
   ]
  },
  {
   "cell_type": "code",
   "execution_count": 23,
   "metadata": {},
   "outputs": [
    {
     "name": "stderr",
     "output_type": "stream",
     "text": [
      "C:\\Users\\secar\\AppData\\Local\\Temp\\ipykernel_33980\\1940447959.py:23: DeprecationWarning: The 'text' argument to find()-type methods is deprecated. Use 'string' instead.\n",
      "  target_td = soup.find('td', text='澳大利亚元')\n"
     ]
    },
    {
     "data": {
      "text/plain": [
       "float"
      ]
     },
     "execution_count": 23,
     "metadata": {},
     "output_type": "execute_result"
    }
   ],
   "source": [
    "\n",
    "website = \"https://www.boc.cn/sourcedb/whpj/\"\n",
    "def askurl(url):\n",
    "    url = website\n",
    "    head = {\n",
    "        'User-Agent':'Mozilla/5.0 (Windows NT 10.0; Win64; x64) AppleWebKit/537.36 (KHTML, like Gecko) Chrome/87.0.4280.66 Safari/537.36'\n",
    "    }\n",
    "    request = urllib.request.Request(url,headers=head)\n",
    "    html = \"\"\n",
    "    try:\n",
    "        # time.sleep(5)\n",
    "        response = urllib.request.urlopen(request)\n",
    "        html = response.read().decode('utf-8')\n",
    "    except urllib.error.HTTPError as e:\n",
    "        if hasattr(e,\"code\"):\n",
    "            print(e.code)\n",
    "        if hasattr(e,\"reson\"):\n",
    "            print(e.reason)\n",
    "    return html\n",
    "\n",
    "def getexchange_rate(url):\n",
    "    html = askurl(url)\n",
    "    soup = BeautifulSoup(html,\"html.parser\")\n",
    "    target_td = soup.find('td', text='澳大利亚元')\n",
    "    if target_td:\n",
    "        next_td = target_td.find_next_sibling('td')\n",
    "        if next_td:\n",
    "            result = float(next_td.text.strip())\n",
    "        else:\n",
    "            result = \"未找到相邻的<td>标签\"\n",
    "    else:\n",
    "        result = \"未找到包含'澳大利亚元'的<td>标签\"\n",
    "        \n",
    "    return result\n"
   ]
  },
  {
   "cell_type": "code",
   "execution_count": 28,
   "metadata": {},
   "outputs": [],
   "source": [
    "import bs4                              \n",
    "import re                               \n",
    "import urllib.request,urllib.error,urllib.parse                            #\n",
    "from bs4 import BeautifulSoup\n",
    "import datetime\n",
    "import time\n",
    "from datetime import datetime,date,timedelta\n",
    "\n",
    "website = \"https://www.boc.cn/sourcedb/whpj/\"\n",
    "\n",
    "def askurl(url):\n",
    "    head = {\n",
    "        'User-Agent':'Mozilla/5.0 (Windows NT 10.0; Win64; x64) AppleWebKit/537.36 (KHTML, like Gecko) Chrome/87.0.4280.66 Safari/537.36'\n",
    "    }\n",
    "    request = urllib.request.Request(url,headers=head)\n",
    "    html = \"\"\n",
    "    try:\n",
    "        # time.sleep(5)\n",
    "        response = urllib.request.urlopen(request)\n",
    "        html = response.read().decode('utf-8')\n",
    "    except urllib.error.HTTPError as e:\n",
    "        if hasattr(e,\"code\"):\n",
    "            print(e.code)\n",
    "        if hasattr(e,\"reson\"):\n",
    "            print(e.reason)\n",
    "    return html\n",
    "\n",
    "def askurl(url):\n",
    "    head = {\n",
    "        'User-Agent':'Mozilla/5.0 (Windows NT 10.0; Win64; x64) AppleWebKit/537.36 (KHTML, like Gecko) Chrome/87.0.4280.66 Safari/537.36'\n",
    "    }\n",
    "    request = urllib.request.Request(url,headers=head)\n",
    "    html = \"\"\n",
    "    try:\n",
    "        # time.sleep(5)\n",
    "        response = urllib.request.urlopen(request)\n",
    "        html = response.read().decode('utf-8')\n",
    "    except urllib.error.HTTPError as e:\n",
    "        if hasattr(e,\"code\"):\n",
    "            print(e.code)\n",
    "        if hasattr(e,\"reson\"):\n",
    "            print(e.reason)\n",
    "    return html\n",
    "\n",
    "def getexchange_rate(url):\n",
    "    html = askurl(url)\n",
    "    soup = BeautifulSoup(html,\"html.parser\")\n",
    "    target_td = soup.find('td', text='美元')\n",
    "    if target_td:\n",
    "        next_td = target_td.find_next_sibling('td')\n",
    "        if next_td:\n",
    "            result = float(next_td.text.strip())\n",
    "        else:\n",
    "            result = \"未找到相邻的<td>标签\"\n",
    "    else:\n",
    "        result = \"未找到包含'美元'的<td>标签\"\n",
    "        \n",
    "    return result"
   ]
  },
  {
   "cell_type": "code",
   "execution_count": 37,
   "metadata": {},
   "outputs": [
    {
     "name": "stderr",
     "output_type": "stream",
     "text": [
      "C:\\Users\\secar\\AppData\\Local\\Temp\\ipykernel_33980\\798871916.py:48: DeprecationWarning: The 'text' argument to find()-type methods is deprecated. Use 'string' instead.\n",
      "  target_td = soup.find('td', text='美元')\n"
     ]
    },
    {
     "name": "stdout",
     "output_type": "stream",
     "text": [
      "2024-06-13 19:06:23\n",
      "Today's Exchange Rate of CNY to USD is 724.16 \n"
     ]
    },
    {
     "ename": "KeyboardInterrupt",
     "evalue": "Interrupted by user",
     "output_type": "error",
     "traceback": [
      "\u001b[1;31m---------------------------------------------------------------------------\u001b[0m",
      "\u001b[1;31mKeyboardInterrupt\u001b[0m                         Traceback (most recent call last)",
      "Cell \u001b[1;32mIn[37], line 30\u001b[0m\n\u001b[0;32m     26\u001b[0m        \u001b[38;5;28mprint\u001b[39m(\u001b[38;5;124m\"\u001b[39m\u001b[38;5;124m抓取汇率失败，原因：\u001b[39m\u001b[38;5;124m\"\u001b[39m \u001b[38;5;241m+\u001b[39m  cny_usd)\n\u001b[0;32m     29\u001b[0m \u001b[38;5;28;01mif\u001b[39;00m \u001b[38;5;18m__name__\u001b[39m \u001b[38;5;241m==\u001b[39m \u001b[38;5;124m\"\u001b[39m\u001b[38;5;124m__main__\u001b[39m\u001b[38;5;124m\"\u001b[39m:\n\u001b[1;32m---> 30\u001b[0m     \u001b[43mmain\u001b[49m\u001b[43m(\u001b[49m\u001b[43mwebsite\u001b[49m\u001b[43m)\u001b[49m\n",
      "Cell \u001b[1;32mIn[37], line 8\u001b[0m, in \u001b[0;36mmain\u001b[1;34m(url)\u001b[0m\n\u001b[0;32m      6\u001b[0m Exchange_rate \u001b[38;5;241m=\u001b[39m \u001b[38;5;28mfloat\u001b[39m(cny_usd)\n\u001b[0;32m      7\u001b[0m \u001b[38;5;28;01mwhile\u001b[39;00m \u001b[38;5;241m1\u001b[39m:\n\u001b[1;32m----> 8\u001b[0m     currency \u001b[38;5;241m=\u001b[39m \u001b[38;5;28;43minput\u001b[39;49m\u001b[43m(\u001b[49m\u001b[38;5;124;43m\"\u001b[39;49m\u001b[38;5;124;43menter your currency(press Q to esc):\u001b[39;49m\u001b[38;5;124;43m\"\u001b[39;49m\u001b[43m)\u001b[49m\n\u001b[0;32m     10\u001b[0m     \u001b[38;5;28;01mif\u001b[39;00m currency \u001b[38;5;241m==\u001b[39m \u001b[38;5;124m\"\u001b[39m\u001b[38;5;124musd\u001b[39m\u001b[38;5;124m\"\u001b[39m \u001b[38;5;129;01mor\u001b[39;00m currency \u001b[38;5;241m==\u001b[39m \u001b[38;5;124m\"\u001b[39m\u001b[38;5;124mcny\u001b[39m\u001b[38;5;124m\"\u001b[39m:\n\u001b[0;32m     12\u001b[0m         \u001b[38;5;28;01mwhile\u001b[39;00m \u001b[38;5;241m1\u001b[39m:\n",
      "File \u001b[1;32m~\\AppData\\Roaming\\Python\\Python310\\site-packages\\ipykernel\\kernelbase.py:1282\u001b[0m, in \u001b[0;36mKernel.raw_input\u001b[1;34m(self, prompt)\u001b[0m\n\u001b[0;32m   1280\u001b[0m     msg \u001b[38;5;241m=\u001b[39m \u001b[38;5;124m\"\u001b[39m\u001b[38;5;124mraw_input was called, but this frontend does not support input requests.\u001b[39m\u001b[38;5;124m\"\u001b[39m\n\u001b[0;32m   1281\u001b[0m     \u001b[38;5;28;01mraise\u001b[39;00m StdinNotImplementedError(msg)\n\u001b[1;32m-> 1282\u001b[0m \u001b[38;5;28;01mreturn\u001b[39;00m \u001b[38;5;28;43mself\u001b[39;49m\u001b[38;5;241;43m.\u001b[39;49m\u001b[43m_input_request\u001b[49m\u001b[43m(\u001b[49m\n\u001b[0;32m   1283\u001b[0m \u001b[43m    \u001b[49m\u001b[38;5;28;43mstr\u001b[39;49m\u001b[43m(\u001b[49m\u001b[43mprompt\u001b[49m\u001b[43m)\u001b[49m\u001b[43m,\u001b[49m\n\u001b[0;32m   1284\u001b[0m \u001b[43m    \u001b[49m\u001b[38;5;28;43mself\u001b[39;49m\u001b[38;5;241;43m.\u001b[39;49m\u001b[43m_parent_ident\u001b[49m\u001b[43m[\u001b[49m\u001b[38;5;124;43m\"\u001b[39;49m\u001b[38;5;124;43mshell\u001b[39;49m\u001b[38;5;124;43m\"\u001b[39;49m\u001b[43m]\u001b[49m\u001b[43m,\u001b[49m\n\u001b[0;32m   1285\u001b[0m \u001b[43m    \u001b[49m\u001b[38;5;28;43mself\u001b[39;49m\u001b[38;5;241;43m.\u001b[39;49m\u001b[43mget_parent\u001b[49m\u001b[43m(\u001b[49m\u001b[38;5;124;43m\"\u001b[39;49m\u001b[38;5;124;43mshell\u001b[39;49m\u001b[38;5;124;43m\"\u001b[39;49m\u001b[43m)\u001b[49m\u001b[43m,\u001b[49m\n\u001b[0;32m   1286\u001b[0m \u001b[43m    \u001b[49m\u001b[43mpassword\u001b[49m\u001b[38;5;241;43m=\u001b[39;49m\u001b[38;5;28;43;01mFalse\u001b[39;49;00m\u001b[43m,\u001b[49m\n\u001b[0;32m   1287\u001b[0m \u001b[43m\u001b[49m\u001b[43m)\u001b[49m\n",
      "File \u001b[1;32m~\\AppData\\Roaming\\Python\\Python310\\site-packages\\ipykernel\\kernelbase.py:1325\u001b[0m, in \u001b[0;36mKernel._input_request\u001b[1;34m(self, prompt, ident, parent, password)\u001b[0m\n\u001b[0;32m   1322\u001b[0m \u001b[38;5;28;01mexcept\u001b[39;00m \u001b[38;5;167;01mKeyboardInterrupt\u001b[39;00m:\n\u001b[0;32m   1323\u001b[0m     \u001b[38;5;66;03m# re-raise KeyboardInterrupt, to truncate traceback\u001b[39;00m\n\u001b[0;32m   1324\u001b[0m     msg \u001b[38;5;241m=\u001b[39m \u001b[38;5;124m\"\u001b[39m\u001b[38;5;124mInterrupted by user\u001b[39m\u001b[38;5;124m\"\u001b[39m\n\u001b[1;32m-> 1325\u001b[0m     \u001b[38;5;28;01mraise\u001b[39;00m \u001b[38;5;167;01mKeyboardInterrupt\u001b[39;00m(msg) \u001b[38;5;28;01mfrom\u001b[39;00m \u001b[38;5;28;01mNone\u001b[39;00m\n\u001b[0;32m   1326\u001b[0m \u001b[38;5;28;01mexcept\u001b[39;00m \u001b[38;5;167;01mException\u001b[39;00m:\n\u001b[0;32m   1327\u001b[0m     \u001b[38;5;28mself\u001b[39m\u001b[38;5;241m.\u001b[39mlog\u001b[38;5;241m.\u001b[39mwarning(\u001b[38;5;124m\"\u001b[39m\u001b[38;5;124mInvalid Message:\u001b[39m\u001b[38;5;124m\"\u001b[39m, exc_info\u001b[38;5;241m=\u001b[39m\u001b[38;5;28;01mTrue\u001b[39;00m)\n",
      "\u001b[1;31mKeyboardInterrupt\u001b[0m: Interrupted by user"
     ]
    }
   ],
   "source": [
    "def main(url):\n",
    "    cny_usd = getexchange_rate(url)\n",
    "    if type(cny_usd) == float:\n",
    "        CurrentTime = time.strftime('%Y-%m-%d %H:%m:%S', time.localtime(time.time()))\n",
    "        print(\"%s\\nToday's Exchange Rate of CNY to USD is %s \"%(CurrentTime,cny_usd))\n",
    "        Exchange_rate = float(cny_usd)\n",
    "        while 1:\n",
    "            currency = input(\"enter your currency(press Q to esc):\")\n",
    "            \n",
    "            if currency == \"usd\" or currency == \"cny\":\n",
    "               \n",
    "                while 1:\n",
    "                    amount = input(f\"{currency} amount:\") \n",
    "                    if amount.isnumeric() == False:\n",
    "                        break\n",
    "                    else:\n",
    "                        if currency == \"usd\":\n",
    "                            cny = float(amount) * 100 / Exchange_rate \n",
    "                            print(f\"usd:{amount}\\ncny:{cny}\\n\" + \"=\" * 60)\n",
    "                        if currency == \"cny\":\n",
    "                            usd = float(amount) * 100 / Exchange_rate \n",
    "                            print(f\"cny:{amount}\\nusd:{usd}\\n\" + \"=\" * 60)   \n",
    "            \n",
    "            elif currency.lower() == \"q\":\n",
    "                break\n",
    "            \n",
    "    else:\n",
    "       print(\"抓取汇率失败，原因：\" +  cny_usd)\n",
    "\n",
    "\n",
    "if __name__ == \"__main__\":\n",
    "    main(website)"
   ]
  },
  {
   "cell_type": "code",
   "execution_count": null,
   "metadata": {},
   "outputs": [],
   "source": []
  }
 ],
 "metadata": {
  "kernelspec": {
   "display_name": "Python 3",
   "language": "python",
   "name": "python3"
  },
  "language_info": {
   "codemirror_mode": {
    "name": "ipython",
    "version": 3
   },
   "file_extension": ".py",
   "mimetype": "text/x-python",
   "name": "python",
   "nbconvert_exporter": "python",
   "pygments_lexer": "ipython3",
   "version": "3.10.11"
  }
 },
 "nbformat": 4,
 "nbformat_minor": 2
}
